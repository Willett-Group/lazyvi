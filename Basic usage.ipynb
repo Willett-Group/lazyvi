{
 "cells": [
  {
   "cell_type": "code",
   "execution_count": 28,
   "id": "southwest-wrestling",
   "metadata": {},
   "outputs": [
    {
     "name": "stdout",
     "output_type": "stream",
     "text": [
      "The autoreload extension is already loaded. To reload it, use:\n",
      "  %reload_ext autoreload\n"
     ]
    }
   ],
   "source": [
    "%load_ext autoreload\n",
    "%autoreload 2\n",
    "\n",
    "%matplotlib inline\n",
    "from matplotlib import pyplot as plt\n",
    "import seaborn as sns\n",
    "sns.set(style='ticks') \n",
    "\n",
    "import warnings\n",
    "warnings.filterwarnings('ignore')\n",
    "\n",
    "from lazyvi import LazyVI\n",
    "from data_generating_funcs import *\n",
    "from networks import *\n",
    "from utils import *\n",
    "import numpy as np\n",
    "\n",
    "from sklearn.metrics import mean_squared_error as mse"
   ]
  },
  {
   "cell_type": "code",
   "execution_count": 24,
   "id": "occupied-standard",
   "metadata": {},
   "outputs": [
    {
     "data": {
      "text/plain": [
       "tensor([[ 1.0278],\n",
       "        [-1.7377],\n",
       "        [ 1.8756],\n",
       "        ...,\n",
       "        [ 3.6448],\n",
       "        [ 0.4229],\n",
       "        [ 3.7112]])"
      ]
     },
     "execution_count": 24,
     "metadata": {},
     "output_type": "execute_result"
    }
   ],
   "source": [
    "# generate data\n",
    "X, y = generate_linear_data(beta=[1.5, 1.2, 1, 0, 0, 0], corr=.75)\n",
    "n, p = X.shape\n",
    "dm = FlexDataModule(X,y) # feed into data module\n",
    "\n",
    "# extract train/test from data module\n",
    "dm.setup()\n",
    "X_train = dm.train.dataset.tensors[0]\n",
    "y_train = dm.train.dataset.tensors[1]\n",
    "\n",
    "X_test = dm.test.tensors[0]\n",
    "y_test = dm.test.tensors[1]\n",
    "\n",
    "\n",
    "# initialize network\n",
    "full_nn = NN4vi(p, [50], 1)\n",
    "\n",
    "# train full network\n",
    "early_stopping = EarlyStopping('val_loss', min_delta=1e-3)\n",
    "trainer = pl.Trainer(callbacks=[early_stopping], max_epochs=100)\n",
    "trainer.fit(full_nn, dm)"
   ]
  },
  {
   "cell_type": "code",
   "execution_count": 26,
   "id": "virtual-seeking",
   "metadata": {},
   "outputs": [
    {
     "data": {
      "text/plain": [
       "tensor(0.0137, grad_fn=<MseLossBackward0>)"
      ]
     },
     "execution_count": 26,
     "metadata": {},
     "output_type": "execute_result"
    }
   ],
   "source": [
    "# extract full model MSE\n",
    "test_loss_full = nn.MSELoss()(y_test, full_nn(X_test))\n",
    "test_loss_full"
   ]
  },
  {
   "cell_type": "code",
   "execution_count": 30,
   "id": "worse-thailand",
   "metadata": {},
   "outputs": [
    {
     "data": {
      "text/plain": [
       "1.090149"
      ]
     },
     "execution_count": 30,
     "metadata": {},
     "output_type": "execute_result"
    }
   ],
   "source": [
    "# dropout first variable\n",
    "X0_train = dropout(X_train, 0)\n",
    "X0_test = dropout(X_test,0)\n",
    "\n",
    "# initialize lazy object with parameters\n",
    "lv = LazyVI(full_nn)\n",
    "\n",
    "# fit LazyVI on modified data\n",
    "lv.fit(X0_train, y_train)\n",
    "\n",
    "# calculate mse of reduced dataset using lazyvi\n",
    "mse(y_test.detach().numpy(), lv.predict(X0_test).detach().numpy())"
   ]
  },
  {
   "cell_type": "code",
   "execution_count": 31,
   "id": "permanent-jefferson",
   "metadata": {},
   "outputs": [],
   "source": [
    "# can use the LazyVI object to extract gradients, look at regularization path, etc\n",
    "lv.extract_grad(X0_train)\n",
    "grad = lv.grads\n"
   ]
  },
  {
   "cell_type": "code",
   "execution_count": 32,
   "id": "sacred-protocol",
   "metadata": {},
   "outputs": [
    {
     "data": {
      "text/plain": [
       "array([[-0.0000000e+00,  0.0000000e+00,  0.0000000e+00, ...,\n",
       "         3.3728093e-01,  0.0000000e+00,  1.0000000e+00],\n",
       "       [-0.0000000e+00,  0.0000000e+00,  0.0000000e+00, ...,\n",
       "         2.5300747e-01,  0.0000000e+00,  1.0000000e+00],\n",
       "       [ 4.7275194e-04,  4.1070670e-01,  4.0224460e-01, ...,\n",
       "         0.0000000e+00,  0.0000000e+00,  1.0000000e+00],\n",
       "       ...,\n",
       "       [-0.0000000e+00,  0.0000000e+00,  0.0000000e+00, ...,\n",
       "         0.0000000e+00,  0.0000000e+00,  1.0000000e+00],\n",
       "       [ 4.7275194e-04,  3.5979858e-01, -8.4723070e-02, ...,\n",
       "         0.0000000e+00,  0.0000000e+00,  1.0000000e+00],\n",
       "       [-0.0000000e+00,  0.0000000e+00, -0.0000000e+00, ...,\n",
       "         0.0000000e+00,  0.0000000e+00,  1.0000000e+00]], dtype=float32)"
      ]
     },
     "execution_count": 32,
     "metadata": {},
     "output_type": "execute_result"
    }
   ],
   "source": [
    "grad"
   ]
  }
 ],
 "metadata": {
  "kernelspec": {
   "display_name": "Python 3",
   "language": "python",
   "name": "python3"
  },
  "language_info": {
   "codemirror_mode": {
    "name": "ipython",
    "version": 3
   },
   "file_extension": ".py",
   "mimetype": "text/x-python",
   "name": "python",
   "nbconvert_exporter": "python",
   "pygments_lexer": "ipython3",
   "version": "3.7.7"
  }
 },
 "nbformat": 4,
 "nbformat_minor": 5
}
