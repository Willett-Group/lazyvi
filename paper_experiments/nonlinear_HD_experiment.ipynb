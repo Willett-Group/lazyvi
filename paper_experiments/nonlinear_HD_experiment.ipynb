{
 "cells": [
  {
   "cell_type": "code",
   "execution_count": 38,
   "id": "tender-level",
   "metadata": {},
   "outputs": [
    {
     "name": "stdout",
     "output_type": "stream",
     "text": [
      "The autoreload extension is already loaded. To reload it, use:\n",
      "  %reload_ext autoreload\n"
     ]
    }
   ],
   "source": [
    "%load_ext autoreload\n",
    "%autoreload 2\n",
    "\n",
    "%matplotlib inline\n",
    "from matplotlib import pyplot as plt\n",
    "import seaborn as sns\n",
    "sns.set() \n",
    "\n",
    "import pandas as pd\n",
    "import numpy as np\n",
    "from scipy import stats as st\n",
    "\n",
    "import warnings\n",
    "warnings.filterwarnings('ignore')\n",
    "\n",
    "import sys, os\n",
    "module_path = os.path.abspath(os.path.join('..'))\n",
    "if module_path not in sys.path:\n",
    "    sys.path.append(module_path)\n",
    "    \n",
    "from utils import *\n",
    "from data_generating_funcs import *\n",
    "sns.set(style=\"ticks\", font_scale=1.2)"
   ]
  },
  {
   "cell_type": "code",
   "execution_count": 2,
   "id": "british-description",
   "metadata": {},
   "outputs": [],
   "source": [
    "def generate_WV(beta, m, V='random', sigma=0.1):\n",
    "    p = len(beta)\n",
    "    W = np.zeros((m, p))\n",
    "    for j, b in enumerate(beta):\n",
    "        W[:, j] = np.random.normal(b, sigma, size=m)\n",
    "        # W[:, j] = b\n",
    "    W = torch.tensor(W, dtype=torch.float32)\n",
    "    if V=='random':\n",
    "        V = torch.tensor(np.random.normal(size=(1, m)), dtype=torch.float32)\n",
    "    elif V == 'sequential':\n",
    "        V = torch.tensor((np.arange(m)+1)/m, dtype=torch.float32)\n",
    "    return W, V\n",
    "\n",
    "def generate_2lnn_data(W, V, n, corr=0.5):\n",
    "    p = W.shape[1]\n",
    "    sigma = np.eye(p)\n",
    "    sigma[0, 1] = corr\n",
    "    sigma[1, 0] = corr\n",
    "    X = np.random.multivariate_normal(np.zeros(p), sigma, size=n)\n",
    "    X = torch.tensor(X, dtype=torch.float32)\n",
    "    Y = torch.tensor(torch.matmul(V, torch.relu(torch.matmul(W, X.T))).detach().numpy(),\n",
    "                     dtype=torch.float32)\n",
    "    return X, Y.reshape(-1, 1)"
   ]
  },
  {
   "cell_type": "code",
   "execution_count": null,
   "id": "spread-projector",
   "metadata": {},
   "outputs": [],
   "source": [
    "beta = [5,4,3,2,1] + list(np.zeros(95))\n",
    "\n",
    "#beta = [1.5, 1.2, 1, 0, 0, 0]  #+ list(np.zeros(900))\n",
    "\n",
    "big_df = pd.DataFrame()\n",
    "W,V=generate_WV(beta, 12, V='random', sigma=0.1)\n",
    "for t in range(10):\n",
    "    X,y=generate_2lnn_data(W,V,n=1000,corr=0.5)\n",
    "    df = vi_experiment_wrapper(X, y, 50, exp_iter=t, ix=[0], lambda_path=np.logspace(1,2,3), \n",
    "                              include_linear=True, early_stop=False, max_epochs=20, include_rf=True)\n",
    "    big_df = big_df.append(df)\n",
    "        \n",
    "#big_df.to_csv(\"../results/highd.csv\", index=False)"
   ]
  },
  {
   "cell_type": "code",
   "execution_count": 65,
   "id": "pursuant-smooth",
   "metadata": {},
   "outputs": [],
   "source": [
    "omg = pd.merge(big_df[big_df.method!='retrain'][['iter', 'method', 'vi', 'time']],\n",
    "         big_df[big_df.method=='retrain'][['iter', 'vi', 'time']],\n",
    "         on='iter', suffixes=['','_retrain'])\n",
    "omg['error'] = (omg.vi_retrain - omg.vi)/omg.vi_retrain\n",
    "omg = omg[omg.method != 'full model']"
   ]
  },
  {
   "cell_type": "code",
   "execution_count": 68,
   "id": "bearing-zealand",
   "metadata": {},
   "outputs": [],
   "source": [
    "omg['Method'] = omg.method.apply(lambda x: x.title())\n",
    "\n",
    "omg.loc[omg.method.isin(['ols', 'rf']), 'Method'] = omg[omg.method.isin(['ols', 'rf'])].method.apply(lambda x: x.upper())\n",
    "omg.loc[omg.method=='lazy', 'Method'] = 'LazyVI'\n",
    "omg = omg.append( big_df[big_df.method=='retrain'][['method', 'iter', 'vi', 'time']])\n",
    "omg['Error'] = omg.error.fillna(0)\n",
    "omg.loc[omg.method=='retrain', 'Method'] = 'Retrain'\n",
    "omg['Time'] = omg.time"
   ]
  },
  {
   "cell_type": "code",
   "execution_count": 77,
   "id": "complex-framing",
   "metadata": {},
   "outputs": [
    {
     "data": {
      "image/png": "[encoded data removed]",
      "text/plain": [
       "<Figure size 288x216 with 1 Axes>"
      ]
     },
     "metadata": {},
     "output_type": "display_data"
    }
   ],
   "source": [
    "fig,ax = plt.subplots(figsize=(4,3))\n",
    "plt.ylim(-.1, 1.1)\n",
    "plt.xlim(-.5, 13)\n",
    "plt.xlabel('Time (s)')\n",
    "plt.ylabel('Error')\n",
    "#plt.ylabel('Error')\n",
    "colors = ['b', 'orange', 'g']\n",
    "\n",
    "for i, method in enumerate(['Dropout', 'LazyVI', 'Retrain', 'RF', 'OLS']):\n",
    "\n",
    "    d = omg[omg.Method==method]\n",
    "    boxplot_2d(d.Time, d.Error, ax=ax, co=sns.color_palette()[i], method=method)\n",
    "    plt.legend(bbox_to_anchor=(1.05, 1), loc=2, borderaxespad=0.)\n",
    "    #plt.legend(bbox_to_anchor=(1.05, 1), loc=2, borderaxespad=0.)\n",
    "    # Hide the right and top spines\n",
    "    ax.spines['right'].set_visible(False)\n",
    "    ax.spines['top'].set_visible(False)\n",
    "    # Hide the right and top spines\n",
    "\n",
    "    ax.xaxis.set_ticks_position('bottom')\n",
    "    ax.yaxis.set_ticks_position('left')\n",
    "\n",
    "    #ax.axes.yaxis.set_ticks([])\n",
    "    #plt.title(var_groups[k])\n",
    "\n",
    "plt.savefig(\"../results/images/highd_curvey.pdf\", format='pdf', bbox_inches = \"tight\")"
   ]
  }
 ],
 "metadata": {
  "kernelspec": {
   "display_name": "Python 3 (ipykernel)",
   "language": "python",
   "name": "python3"
  },
  "language_info": {
   "codemirror_mode": {
    "name": "ipython",
    "version": 3
   },
   "file_extension": ".py",
   "mimetype": "text/x-python",
   "name": "python",
   "nbconvert_exporter": "python",
   "pygments_lexer": "ipython3",
   "version": "3.9.16"
  }
 },
 "nbformat": 4,
 "nbformat_minor": 5
}
