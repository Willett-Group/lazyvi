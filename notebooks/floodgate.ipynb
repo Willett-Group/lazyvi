{
 "cells": [
  {
   "cell_type": "code",
   "execution_count": null,
   "id": "supreme-jerusalem",
   "metadata": {},
   "outputs": [],
   "source": [
    "%load_ext autoreload\n",
    "%autoreload 2\n",
    "\n",
    "%matplotlib inline\n",
    "from matplotlib import pyplot as plt\n",
    "import seaborn as sns\n",
    "sns.set() \n",
    "\n",
    "import pandas as pd\n",
    "import numpy as np\n",
    "from scipy import stats as st\n",
    "\n",
    "import warnings\n",
    "warnings.filterwarnings('ignore')\n",
    "\n",
    "import sys, os\n",
    "module_path = os.path.abspath(os.path.join('..'))\n",
    "if module_path not in sys.path:\n",
    "    sys.path.append(module_path)\n",
    "    \n",
    "from utils import *\n",
    "from utils_concise import *\n",
    "from classification_utils import *\n",
    "from data_generating_funcs import *\n",
    "import tqdm\n"
   ]
  },
  {
   "cell_type": "code",
   "execution_count": 28,
   "id": "recognized-career",
   "metadata": {},
   "outputs": [
    {
     "data": {
      "text/plain": [
       "(array([ 35,  66,  93,  97, 157, 221, 224, 240, 246, 260, 370, 410, 416,\n",
       "        450, 455, 524, 545, 604, 622, 657, 722, 736, 748, 855, 876, 912,\n",
       "        914, 938, 974, 991]),)"
      ]
     },
     "execution_count": 28,
     "metadata": {},
     "output_type": "execute_result"
    }
   ],
   "source": [
    "X, y, beta_star = generate_floodgate_sims()\n",
    "n, p = X.shape\n",
    "X_train, X_test, y_train, y_test = train_test_split(X, y, test_size = 0.33)\n",
    "np.where(abs(beta_star)>0)"
   ]
  },
  {
   "cell_type": "code",
   "execution_count": 34,
   "id": "restricted-latvia",
   "metadata": {},
   "outputs": [
    {
     "name": "stderr",
     "output_type": "stream",
     "text": [
      "GPU available: False, used: False\n",
      "TPU available: False, using: 0 TPU cores\n",
      "IPU available: False, using: 0 IPUs\n",
      "\n",
      "  | Name | Type       | Params\n",
      "------------------------------------\n",
      "0 | net  | Sequential | 1.0 M \n",
      "------------------------------------\n",
      "1.0 M     Trainable params\n",
      "0         Non-trainable params\n",
      "1.0 M     Total params\n",
      "4.008     Total estimated model params size (MB)\n"
     ]
    }
   ],
   "source": [
    "#X_train, X_test, y_train, y_test = train_test_split(X, y, test_size = 0.33, random_state = seed)\n",
    "trainset = torch.utils.data.TensorDataset(torch.tensor(X_train, dtype=torch.float32),\n",
    "                                          torch.tensor(y_train, dtype=torch.float32).view(-1,1))\n",
    "train_loader = DataLoader(trainset, batch_size=32)\n",
    "\n",
    "full_nn = NN4vi(p, [p], 1)\n",
    "#early_stopping = EarlyStopping('val_loss', min_delta=tol)\n",
    "trainer = pl.Trainer(max_epochs=100)\n",
    "t0 = time.time()\n",
    "with io.capture_output() as captured: trainer.fit(full_nn, train_loader, train_loader)\n",
    "full_time = time.time() - t0\n",
    "test_loss = nn.MSELoss()(full_nn(X_test), y_test).item()"
   ]
  },
  {
   "cell_type": "code",
   "execution_count": 35,
   "id": "southern-pontiac",
   "metadata": {},
   "outputs": [
    {
     "data": {
      "text/plain": [
       "1.629307746887207"
      ]
     },
     "execution_count": 35,
     "metadata": {},
     "output_type": "execute_result"
    }
   ],
   "source": [
    "test_loss"
   ]
  },
  {
   "cell_type": "code",
   "execution_count": 12,
   "id": "animal-simulation",
   "metadata": {},
   "outputs": [
    {
     "data": {
      "text/plain": [
       "LassoCV()"
      ]
     },
     "execution_count": 12,
     "metadata": {},
     "output_type": "execute_result"
    }
   ],
   "source": [
    "from sklearn.linear_model import LassoCV\n",
    "\n",
    "las = LassoCV()\n",
    "las.fit(X_train, y_train)"
   ]
  },
  {
   "cell_type": "code",
   "execution_count": 13,
   "id": "soviet-ceiling",
   "metadata": {},
   "outputs": [
    {
     "data": {
      "text/plain": [
       "1.1603532604217548"
      ]
     },
     "execution_count": 13,
     "metadata": {},
     "output_type": "execute_result"
    }
   ],
   "source": [
    "from sklearn.metrics import mean_squared_error as mse\n",
    "\n",
    "mse(y_test, las.predict(X_test))"
   ]
  },
  {
   "cell_type": "code",
   "execution_count": 14,
   "id": "front-modern",
   "metadata": {},
   "outputs": [],
   "source": [
    "Xj_train = dropout(X_train, 7)\n",
    "Xj_test = dropout(X_test, 7)"
   ]
  },
  {
   "cell_type": "code",
   "execution_count": 17,
   "id": "unlimited-performer",
   "metadata": {},
   "outputs": [
    {
     "data": {
      "text/plain": [
       "0.1333895400437187"
      ]
     },
     "execution_count": 17,
     "metadata": {},
     "output_type": "execute_result"
    }
   ],
   "source": [
    "# true_vi = 0.1377467\n",
    "np.sqrt(mse(y_test, las.predict(Xj_test)) - mse(y_test, las.predict(X_test)))"
   ]
  },
  {
   "cell_type": "code",
   "execution_count": 19,
   "id": "qualified-compound",
   "metadata": {},
   "outputs": [
    {
     "data": {
      "text/plain": [
       "0.12579783274196202"
      ]
     },
     "execution_count": 19,
     "metadata": {},
     "output_type": "execute_result"
    }
   ],
   "source": [
    "las_j = LassoCV()\n",
    "las_j.fit(Xj_train, y_train)\n",
    "\n",
    "np.sqrt(mse(y_test, las_j.predict(Xj_test)) - mse(y_test, las.predict(X_test)))"
   ]
  },
  {
   "cell_type": "code",
   "execution_count": 24,
   "id": "recreational-yugoslavia",
   "metadata": {},
   "outputs": [
    {
     "data": {
      "text/plain": [
       "0.14620991604528438"
      ]
     },
     "execution_count": 24,
     "metadata": {},
     "output_type": "execute_result"
    }
   ],
   "source": [
    "0.12579783274196202 + se"
   ]
  },
  {
   "cell_type": "code",
   "execution_count": 22,
   "id": "affecting-guess",
   "metadata": {},
   "outputs": [],
   "source": [
    "eps_j = ((y_test.detach().numpy() - las_j.predict(Xj_test)) ** 2)\n",
    "eps_full = ((y_test.detach().numpy() - las.predict(X_test)) ** 2)\n",
    "se = np.sqrt(np.var(eps_j - eps_full) / y_test.shape[0])"
   ]
  },
  {
   "cell_type": "code",
   "execution_count": 25,
   "id": "capable-lyric",
   "metadata": {},
   "outputs": [
    {
     "data": {
      "text/plain": [
       "1.7619969844818115"
      ]
     },
     "execution_count": 25,
     "metadata": {},
     "output_type": "execute_result"
    }
   ],
   "source": []
  },
  {
   "cell_type": "code",
   "execution_count": 5,
   "id": "subjective-slovak",
   "metadata": {},
   "outputs": [
    {
     "name": "stderr",
     "output_type": "stream",
     "text": [
      "GPU available: False, used: False\n",
      "TPU available: False, using: 0 TPU cores\n",
      "IPU available: False, using: 0 IPUs\n",
      "\n",
      "  | Name | Type       | Params\n",
      "------------------------------------\n",
      "0 | net  | Sequential | 1.0 M \n",
      "------------------------------------\n",
      "1.0 M     Trainable params\n",
      "0         Non-trainable params\n",
      "1.0 M     Total params\n",
      "4.008     Total estimated model params size (MB)\n"
     ]
    },
    {
     "name": "stdout",
     "output_type": "stream",
     "text": [
      "115\n",
      "21.544346900318832\n"
     ]
    },
    {
     "name": "stderr",
     "output_type": "stream",
     "text": [
      "GPU available: False, used: False\n",
      "TPU available: False, using: 0 TPU cores\n",
      "IPU available: False, using: 0 IPUs\n",
      "\n",
      "  | Name | Type       | Params\n",
      "------------------------------------\n",
      "0 | net  | Sequential | 50.1 K\n",
      "------------------------------------\n",
      "50.1 K    Trainable params\n",
      "0         Non-trainable params\n",
      "50.1 K    Total params\n",
      "0.200     Total estimated model params size (MB)\n"
     ]
    },
    {
     "name": "stdout",
     "output_type": "stream",
     "text": [
      "116\n",
      "100.0\n"
     ]
    },
    {
     "name": "stderr",
     "output_type": "stream",
     "text": [
      "GPU available: False, used: False\n",
      "TPU available: False, using: 0 TPU cores\n",
      "IPU available: False, using: 0 IPUs\n",
      "\n",
      "  | Name | Type       | Params\n",
      "------------------------------------\n",
      "0 | net  | Sequential | 50.1 K\n",
      "------------------------------------\n",
      "50.1 K    Trainable params\n",
      "0         Non-trainable params\n",
      "50.1 K    Total params\n",
      "0.200     Total estimated model params size (MB)\n"
     ]
    },
    {
     "name": "stdout",
     "output_type": "stream",
     "text": [
      "149\n",
      "35.93813663804626\n"
     ]
    },
    {
     "name": "stderr",
     "output_type": "stream",
     "text": [
      "GPU available: False, used: False\n",
      "TPU available: False, using: 0 TPU cores\n",
      "IPU available: False, using: 0 IPUs\n",
      "\n",
      "  | Name | Type       | Params\n",
      "------------------------------------\n",
      "0 | net  | Sequential | 50.1 K\n",
      "------------------------------------\n",
      "50.1 K    Trainable params\n",
      "0         Non-trainable params\n",
      "50.1 K    Total params\n",
      "0.200     Total estimated model params size (MB)\n"
     ]
    },
    {
     "name": "stdout",
     "output_type": "stream",
     "text": [
      "150\n",
      "100.0\n"
     ]
    },
    {
     "name": "stderr",
     "output_type": "stream",
     "text": [
      "GPU available: False, used: False\n",
      "TPU available: False, using: 0 TPU cores\n",
      "IPU available: False, using: 0 IPUs\n",
      "\n",
      "  | Name | Type       | Params\n",
      "------------------------------------\n",
      "0 | net  | Sequential | 50.1 K\n",
      "------------------------------------\n",
      "50.1 K    Trainable params\n",
      "0         Non-trainable params\n",
      "50.1 K    Total params\n",
      "0.200     Total estimated model params size (MB)\n"
     ]
    }
   ],
   "source": [
    "#hidden_layers = [50]\n",
    "results = []\n",
    "\n",
    "n, p = X.shape\n",
    "full_nn, full_time, test_loss = full_model(X, y, hidden_layers=[p])\n",
    "for j in [115, 116, 149, 150]:\n",
    "    print(j)\n",
    "    vi_lz, lz_time, lz_se = lazy_vi(X, y, j, full_nn)\n",
    "    vi_dr = dropout_vi(X, y, j, full_nn)\n",
    "    vi_rt, rt_time, rt_se = retrain_vi(X, y, j, full_nn)\n",
    "    results.append([j, vi_rt, vi_lz, vi_dr])"
   ]
  },
  {
   "cell_type": "code",
   "execution_count": 7,
   "id": "roman-joseph",
   "metadata": {},
   "outputs": [
    {
     "data": {
      "text/plain": [
       "array([[10.72380529,  0.11984346,         nan,         nan],\n",
       "       [10.77032961,         nan,  0.07692173,  0.07944067],\n",
       "       [12.20655562,  0.17009437,         nan,         nan],\n",
       "       [12.24744871,  0.28581308,  0.11708268,  0.12144272]])"
      ]
     },
     "execution_count": 7,
     "metadata": {},
     "output_type": "execute_result"
    }
   ],
   "source": [
    "np.sqrt(results)"
   ]
  },
  {
   "cell_type": "code",
   "execution_count": 8,
   "id": "remarkable-cooperation",
   "metadata": {},
   "outputs": [
    {
     "data": {
      "text/plain": [
       "[[115, 0.014362454414367676, -0.0007956027984619141, -0.0005646944046020508],\n",
       " [116, -0.014607906341552734, 0.005916953086853027, 0.006310820579528809],\n",
       " [149, 0.02893209457397461, -0.002349376678466797, -0.0011376142501831055],\n",
       " [150, 0.08168911933898926, 0.013708353042602539, 0.014748334884643555]]"
      ]
     },
     "execution_count": 8,
     "metadata": {},
     "output_type": "execute_result"
    }
   ],
   "source": [
    "results"
   ]
  },
  {
   "cell_type": "code",
   "execution_count": null,
   "id": "prerequisite-liabilities",
   "metadata": {},
   "outputs": [],
   "source": []
  }
 ],
 "metadata": {
  "kernelspec": {
   "display_name": "Python 3",
   "language": "python",
   "name": "python3"
  },
  "language_info": {
   "codemirror_mode": {
    "name": "ipython",
    "version": 3
   },
   "file_extension": ".py",
   "mimetype": "text/x-python",
   "name": "python",
   "nbconvert_exporter": "python",
   "pygments_lexer": "ipython3",
   "version": "3.7.7"
  }
 },
 "nbformat": 4,
 "nbformat_minor": 5
}
