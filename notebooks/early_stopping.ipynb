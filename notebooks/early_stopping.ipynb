{
 "cells": [
  {
   "cell_type": "code",
   "execution_count": 1,
   "id": "tender-level",
   "metadata": {},
   "outputs": [],
   "source": [
    "%load_ext autoreload\n",
    "%autoreload 2\n",
    "\n",
    "%matplotlib inline\n",
    "from matplotlib import pyplot as plt\n",
    "import seaborn as sns\n",
    "sns.set(style=\"ticks\", font_scale=1.2)\n",
    "\n",
    "import pandas as pd\n",
    "import numpy as np\n",
    "from scipy import stats as st\n",
    "\n",
    "import warnings\n",
    "warnings.filterwarnings('ignore')\n",
    "\n",
    "import sys, os\n",
    "module_path = os.path.abspath(os.path.join('..'))\n",
    "if module_path not in sys.path:\n",
    "    sys.path.append(module_path)\n",
    "    \n",
    "from utils import *\n",
    "from data_generating_funcs import *"
   ]
  },
  {
   "cell_type": "code",
   "execution_count": 85,
   "id": "capable-revelation",
   "metadata": {},
   "outputs": [
    {
     "name": "stderr",
     "output_type": "stream",
     "text": [
      "GPU available: False, used: False\n",
      "TPU available: False, using: 0 TPU cores\n",
      "IPU available: False, using: 0 IPUs\n",
      "\n",
      "  | Name | Type       | Params\n",
      "------------------------------------\n",
      "0 | net  | Sequential | 401   \n",
      "------------------------------------\n",
      "401       Trainable params\n",
      "0         Non-trainable params\n",
      "401       Total params\n",
      "0.002     Total estimated model params size (MB)\n"
     ]
    },
    {
     "data": {
      "text/plain": [
       "tensor(0.0258, grad_fn=<MseLossBackward0>)"
      ]
     },
     "execution_count": 85,
     "metadata": {},
     "output_type": "execute_result"
    }
   ],
   "source": [
    "# full model training\n",
    "results = []\n",
    "network_width = 50\n",
    "exp_iter = 1\n",
    "rho = .75\n",
    "true_vi1 = 1.5**2*(1-rho**2)\n",
    "\n",
    "#beta = [1.5, 1.2, 1, 0, 0, 0] \n",
    "beta = [1.5, 1.2, 1, 0, 0, 0]\n",
    "X, y = generate_linear_data(beta, N=5000, corr=rho)\n",
    "\n",
    "n, p = X.shape\n",
    "hidden_layers = [network_width]\n",
    "tol = 1e-3\n",
    "results = []\n",
    "X_train, X_test, y_train, y_test = train_test_split(X, y, test_size = 0.33, random_state = exp_iter)\n",
    "trainset = torch.utils.data.TensorDataset(torch.tensor(X_train, dtype=torch.float32),\n",
    "                                          torch.tensor(y_train, dtype=torch.float32).view(-1,1))\n",
    "train_loader = DataLoader(trainset, batch_size=256)\n",
    "\n",
    "full_nn = NN4vi(p, hidden_layers, 1)\n",
    "early_stopping = EarlyStopping('val_loss', min_delta=tol)\n",
    "trainer = pl.Trainer(callbacks=[early_stopping])\n",
    "t0 = time.time()\n",
    "with io.capture_output() as captured: trainer.fit(full_nn, train_loader, train_loader)\n",
    "full_time = time.time() - t0\n",
    "full_pred_test = full_nn(X_test)\n",
    "results.append(['all', 'full model', full_time, 0,\n",
    "                nn.MSELoss()(full_nn(X_train), y_train).item(),\n",
    "                nn.MSELoss()(full_pred_test, y_test).item()])\n",
    "nn.MSELoss()(full_pred_test, y_test)"
   ]
  },
  {
   "cell_type": "code",
   "execution_count": 86,
   "id": "handed-thailand",
   "metadata": {},
   "outputs": [
    {
     "data": {
      "text/plain": [
       "2.3016958236694336"
      ]
     },
     "execution_count": 86,
     "metadata": {},
     "output_type": "execute_result"
    }
   ],
   "source": [
    "j = 0\n",
    "\n",
    "varr = 'X' + str(j + 1)\n",
    "# DROPOUT\n",
    "X_test_change = dropout(X_test, j)\n",
    "X_train_change = dropout(X_train, j)\n",
    "dr_pred_train = full_nn(X_train_change)\n",
    "dr_pred_test = full_nn(X_test_change)\n",
    "dr_train_loss = nn.MSELoss()(dr_pred_train, y_train).item()\n",
    "dr_test_loss = nn.MSELoss()(dr_pred_test, y_test).item()\n",
    "dr_vi = nn.MSELoss()(dr_pred_test, y_test).item() - nn.MSELoss()(full_pred_test, y_test).item()\n",
    "\n",
    "results.append([varr, 'dropout', 0, dr_vi, dr_train_loss, dr_test_loss])\n",
    "dr_test_loss"
   ]
  },
  {
   "cell_type": "markdown",
   "id": "legal-somewhere",
   "metadata": {},
   "source": [
    "Lazy vi for different values of $\\lambda$"
   ]
  },
  {
   "cell_type": "code",
   "execution_count": 100,
   "id": "aquatic-placement",
   "metadata": {},
   "outputs": [],
   "source": [
    "# lazy ridge parameter\n",
    "results = []\n",
    "grads, flat_params, shape_info = extract_grad(X_train_change, full_nn)\n",
    "#for lam in np.logspace(0, 2, 50):\n",
    "for lam in np.arange(1, 20):\n",
    "    lazy_pred_train, lazy_pred_test = lazy_predict(grads, flat_params, full_nn, hidden_layers, shape_info,\n",
    "                                                               X_train_change, y_train, X_test_change,lam)\n",
    "    results.append([lam, nn.MSELoss()(lazy_pred_test, y_test).item() - nn.MSELoss()(full_pred_test, y_test).item()])"
   ]
  },
  {
   "cell_type": "code",
   "execution_count": 101,
   "id": "egyptian-pencil",
   "metadata": {},
   "outputs": [
    {
     "data": {
      "text/plain": [
       "<AxesSubplot:xlabel='lam'>"
      ]
     },
     "execution_count": 101,
     "metadata": {},
     "output_type": "execute_result"
    },
    {
     "data": {
      "image/png": "[encoded data removed]",
      "text/plain": [
       "<Figure size 432x288 with 1 Axes>"
      ]
     },
     "metadata": {},
     "output_type": "display_data"
    }
   ],
   "source": [
    "df = pd.DataFrame(results, columns=['lam', 'vi'])#.plot(0,1)\n",
    "df['error'] = df.vi - true_vi1\n",
    "df.plot('lam', 'error')\n",
    "#plt.axhline(.98)\n",
    "#plt.axhline(dr_vi)"
   ]
  },
  {
   "cell_type": "markdown",
   "id": "pressed-alfred",
   "metadata": {},
   "source": [
    "Early stopping"
   ]
  },
  {
   "cell_type": "code",
   "execution_count": null,
   "id": "solved-clearing",
   "metadata": {},
   "outputs": [],
   "source": [
    "early_stops = []\n",
    "for steps in np.arange(1, 20):\n",
    "    print(steps)\n",
    "    t0 = time.time()\n",
    "    retrain_pred_train, retrain_pred_test = fake_retrain(p, full_nn, hidden_layers, j, X_train_change, y_train,\n",
    "                                                         X_test_change, tol=tol, max_epochs=steps)\n",
    "    retrain_time = time.time() - t0\n",
    "    vi_retrain = nn.MSELoss()(retrain_pred_test, y_test).item() - nn.MSELoss()(y_test, full_pred_test).item()\n",
    "    loss_rt_test = nn.MSELoss()(retrain_pred_test, y_test).item()\n",
    "    loss_rt_train = nn.MSELoss()(retrain_pred_train, y_train).item()\n",
    "\n",
    "    early_stops.append([steps, retrain_time, vi_retrain, loss_rt_test])\n",
    "\n",
    "df2 = pd.DataFrame(early_stops, columns=['steps', 'time', 'vi', 'loss'])"
   ]
  },
  {
   "cell_type": "code",
   "execution_count": 110,
   "id": "demographic-expression",
   "metadata": {},
   "outputs": [
    {
     "data": {
      "image/png": "[encoded data removed]",
      "text/plain": [
       "<Figure size 432x288 with 1 Axes>"
      ]
     },
     "metadata": {},
     "output_type": "display_data"
    }
   ],
   "source": [
    "dff = pd.merge(df, df2, left_on='lam', right_on='steps')\n",
    "dff = dff.rename(columns={'error_x':'LazyVI', 'error_y':'Early Stopping', 'lam':'Steps or $\\lambda$'})\n",
    "dff[['Steps or $\\lambda$', 'LazyVI', 'Early Stopping']].plot('Steps or $\\lambda$')\n",
    "plt.savefig(\"../results/images/early_stopping_regularization.pdf\", format='pdf', bbox_inches = \"tight\")\n",
    "\n",
    "#[['lam', 'error_x', 'error_y']].plot('lam')"
   ]
  },
  {
   "cell_type": "code",
   "execution_count": null,
   "id": "honest-hollywood",
   "metadata": {},
   "outputs": [],
   "source": []
  }
 ],
 "metadata": {
  "kernelspec": {
   "display_name": "Python 3",
   "language": "python",
   "name": "python3"
  },
  "language_info": {
   "codemirror_mode": {
    "name": "ipython",
    "version": 3
   },
   "file_extension": ".py",
   "mimetype": "text/x-python",
   "name": "python",
   "nbconvert_exporter": "python",
   "pygments_lexer": "ipython3",
   "version": "3.7.7"
  }
 },
 "nbformat": 4,
 "nbformat_minor": 5
}
