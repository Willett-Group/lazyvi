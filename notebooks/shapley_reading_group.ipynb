{
 "cells": [
  {
   "cell_type": "code",
   "execution_count": 1,
   "id": "choice-advertising",
   "metadata": {},
   "outputs": [],
   "source": [
    "%matplotlib inline\n",
    "\n",
    "import random\n",
    "import pickle\n",
    "from numpy.core.records import array\n",
    "from sklearn.model_selection import train_test_split\n",
    "from sklearn.linear_model import LinearRegression\n",
    "from sklearn.metrics import mean_squared_error as mse, r2_score\n",
    "\n",
    "import numpy as np\n",
    "import torch\n",
    "import torch.nn as nn\n",
    "import torch.optim as optim\n",
    "import tqdm  # progess bar\n",
    "import pandas as pd\n",
    "from matplotlib import pyplot as plt\n",
    "import seaborn as sns\n",
    "sns.set()\n",
    "\n",
    "import statsmodels.api as sm\n",
    "import random"
   ]
  },
  {
   "cell_type": "code",
   "execution_count": 3,
   "id": "suffering-bearing",
   "metadata": {},
   "outputs": [],
   "source": [
    "def dropout(X, i):\n",
    "    X = np.array(X)\n",
    "    N = X.shape[0]\n",
    "    X_change = np.copy(X)\n",
    "    X_change[:, i] = np.ones(N) * np.mean(X[:, i])\n",
    "    #X_change = as_tensor(X_change)\n",
    "    return X_change\n",
    "\n",
    "def generate_data(beta, sigma = 0.1, N=5000, seed =1, corr = 0.5):\n",
    "    random.seed(seed)\n",
    "    cov = [[1, corr],[corr, 1]]\n",
    "    beta= np.array(beta, dtype = float)\n",
    "    p = beta.shape[0]\n",
    "    VI_true = beta**2\n",
    "    VI_true[0:2] = VI_true[0:2]*(1 - corr**2)\n",
    "    X = np.random.normal(0,1, size = (N,p))\n",
    "    X[:,np.array([0,1])] = np.random.multivariate_normal([0,0], cov, size = N)\n",
    "    normal_noise = np.random.normal(0,sigma, size = N)\n",
    "    EY = np.matmul(X, beta)\n",
    "    Y = EY + normal_noise\n",
    "\n",
    "    #X = as_tensor(X)\n",
    "    #Y = as_tensor(Y).view(-1,1)\n",
    "    #Y_binary = as_tensor(np.array(Y_binary))\n",
    "    return X, Y, VI_true"
   ]
  },
  {
   "cell_type": "code",
   "execution_count": 65,
   "id": "flush-zambia",
   "metadata": {},
   "outputs": [],
   "source": [
    "beta = [1.5,1.2,1,0,0,0]\n",
    "p = len(beta)\n",
    "X, y, tru = generate_data(beta, corr=.99)\n"
   ]
  },
  {
   "cell_type": "code",
   "execution_count": 84,
   "id": "historical-wagon",
   "metadata": {},
   "outputs": [
    {
     "data": {
      "text/plain": [
       "array([0.044775, 0.028656, 1.      , 0.      , 0.      , 0.      ])"
      ]
     },
     "execution_count": 84,
     "metadata": {},
     "output_type": "execute_result"
    }
   ],
   "source": [
    "tru"
   ]
  },
  {
   "cell_type": "code",
   "execution_count": 66,
   "id": "incoming-mixer",
   "metadata": {},
   "outputs": [
    {
     "data": {
      "text/html": [
       "<table class=\"simpletable\">\n",
       "<caption>OLS Regression Results</caption>\n",
       "<tr>\n",
       "  <th>Dep. Variable:</th>            <td>y</td>        <th>  R-squared (uncentered):</th>      <td>   0.999</td> \n",
       "</tr>\n",
       "<tr>\n",
       "  <th>Model:</th>                   <td>OLS</td>       <th>  Adj. R-squared (uncentered):</th> <td>   0.999</td> \n",
       "</tr>\n",
       "<tr>\n",
       "  <th>Method:</th>             <td>Least Squares</td>  <th>  F-statistic:       </th>          <td>6.947e+05</td>\n",
       "</tr>\n",
       "<tr>\n",
       "  <th>Date:</th>             <td>Mon, 13 Sep 2021</td> <th>  Prob (F-statistic):</th>           <td>  0.00</td>  \n",
       "</tr>\n",
       "<tr>\n",
       "  <th>Time:</th>                 <td>17:50:33</td>     <th>  Log-Likelihood:    </th>          <td>  4444.8</td> \n",
       "</tr>\n",
       "<tr>\n",
       "  <th>No. Observations:</th>      <td>  5000</td>      <th>  AIC:               </th>          <td>  -8878.</td> \n",
       "</tr>\n",
       "<tr>\n",
       "  <th>Df Residuals:</th>          <td>  4994</td>      <th>  BIC:               </th>          <td>  -8838.</td> \n",
       "</tr>\n",
       "<tr>\n",
       "  <th>Df Model:</th>              <td>     6</td>      <th>                     </th>              <td> </td>    \n",
       "</tr>\n",
       "<tr>\n",
       "  <th>Covariance Type:</th>      <td>nonrobust</td>    <th>                     </th>              <td> </td>    \n",
       "</tr>\n",
       "</table>\n",
       "<table class=\"simpletable\">\n",
       "<tr>\n",
       "   <td></td>     <th>coef</th>     <th>std err</th>      <th>t</th>      <th>P>|t|</th>  <th>[0.025</th>    <th>0.975]</th>  \n",
       "</tr>\n",
       "<tr>\n",
       "  <th>x1</th> <td>    1.4967</td> <td>    0.010</td> <td>  149.426</td> <td> 0.000</td> <td>    1.477</td> <td>    1.516</td>\n",
       "</tr>\n",
       "<tr>\n",
       "  <th>x2</th> <td>    1.2020</td> <td>    0.010</td> <td>  120.069</td> <td> 0.000</td> <td>    1.182</td> <td>    1.222</td>\n",
       "</tr>\n",
       "<tr>\n",
       "  <th>x3</th> <td>    1.0021</td> <td>    0.001</td> <td>  713.173</td> <td> 0.000</td> <td>    0.999</td> <td>    1.005</td>\n",
       "</tr>\n",
       "<tr>\n",
       "  <th>x4</th> <td>    0.0011</td> <td>    0.001</td> <td>    0.765</td> <td> 0.444</td> <td>   -0.002</td> <td>    0.004</td>\n",
       "</tr>\n",
       "<tr>\n",
       "  <th>x5</th> <td>    0.0013</td> <td>    0.001</td> <td>    0.907</td> <td> 0.364</td> <td>   -0.001</td> <td>    0.004</td>\n",
       "</tr>\n",
       "<tr>\n",
       "  <th>x6</th> <td>   -0.0009</td> <td>    0.001</td> <td>   -0.681</td> <td> 0.496</td> <td>   -0.004</td> <td>    0.002</td>\n",
       "</tr>\n",
       "</table>\n",
       "<table class=\"simpletable\">\n",
       "<tr>\n",
       "  <th>Omnibus:</th>       <td> 3.140</td> <th>  Durbin-Watson:     </th> <td>   2.006</td>\n",
       "</tr>\n",
       "<tr>\n",
       "  <th>Prob(Omnibus):</th> <td> 0.208</td> <th>  Jarque-Bera (JB):  </th> <td>   3.158</td>\n",
       "</tr>\n",
       "<tr>\n",
       "  <th>Skew:</th>          <td> 0.061</td> <th>  Prob(JB):          </th> <td>   0.206</td>\n",
       "</tr>\n",
       "<tr>\n",
       "  <th>Kurtosis:</th>      <td> 2.983</td> <th>  Cond. No.          </th> <td>    14.3</td>\n",
       "</tr>\n",
       "</table><br/><br/>Notes:<br/>[1] R² is computed without centering (uncentered) since the model does not contain a constant.<br/>[2] Standard Errors assume that the covariance matrix of the errors is correctly specified."
      ],
      "text/plain": [
       "<class 'statsmodels.iolib.summary.Summary'>\n",
       "\"\"\"\n",
       "                                 OLS Regression Results                                \n",
       "=======================================================================================\n",
       "Dep. Variable:                      y   R-squared (uncentered):                   0.999\n",
       "Model:                            OLS   Adj. R-squared (uncentered):              0.999\n",
       "Method:                 Least Squares   F-statistic:                          6.947e+05\n",
       "Date:                Mon, 13 Sep 2021   Prob (F-statistic):                        0.00\n",
       "Time:                        17:50:33   Log-Likelihood:                          4444.8\n",
       "No. Observations:                5000   AIC:                                     -8878.\n",
       "Df Residuals:                    4994   BIC:                                     -8838.\n",
       "Df Model:                           6                                                  \n",
       "Covariance Type:            nonrobust                                                  \n",
       "==============================================================================\n",
       "                 coef    std err          t      P>|t|      [0.025      0.975]\n",
       "------------------------------------------------------------------------------\n",
       "x1             1.4967      0.010    149.426      0.000       1.477       1.516\n",
       "x2             1.2020      0.010    120.069      0.000       1.182       1.222\n",
       "x3             1.0021      0.001    713.173      0.000       0.999       1.005\n",
       "x4             0.0011      0.001      0.765      0.444      -0.002       0.004\n",
       "x5             0.0013      0.001      0.907      0.364      -0.001       0.004\n",
       "x6            -0.0009      0.001     -0.681      0.496      -0.004       0.002\n",
       "==============================================================================\n",
       "Omnibus:                        3.140   Durbin-Watson:                   2.006\n",
       "Prob(Omnibus):                  0.208   Jarque-Bera (JB):                3.158\n",
       "Skew:                           0.061   Prob(JB):                        0.206\n",
       "Kurtosis:                       2.983   Cond. No.                         14.3\n",
       "==============================================================================\n",
       "\n",
       "Notes:\n",
       "[1] R² is computed without centering (uncentered) since the model does not contain a constant.\n",
       "[2] Standard Errors assume that the covariance matrix of the errors is correctly specified.\n",
       "\"\"\""
      ]
     },
     "execution_count": 66,
     "metadata": {},
     "output_type": "execute_result"
    }
   ],
   "source": [
    "model = sm.OLS(y,X)\n",
    "result = model.fit()\n",
    "result.summary()"
   ]
  },
  {
   "cell_type": "code",
   "execution_count": 85,
   "id": "necessary-exhibition",
   "metadata": {},
   "outputs": [
    {
     "name": "stderr",
     "output_type": "stream",
     "text": [
      "100%|██████████| 100/100 [00:01<00:00, 87.58it/s]\n"
     ]
    },
    {
     "data": {
      "text/plain": [
       "<AxesSubplot:xlabel='variable', ylabel='vi'>"
      ]
     },
     "execution_count": 85,
     "metadata": {},
     "output_type": "execute_result"
    },
    {
     "data": {
      "image/png": "[encoded data removed]",
      "text/plain": [
       "<Figure size 432x288 with 1 Axes>"
      ]
     },
     "metadata": {},
     "output_type": "display_data"
    }
   ],
   "source": [
    "results = []\n",
    "for t in tqdm.tqdm(np.arange(100)):\n",
    "    lm = LinearRegression()\n",
    "    X_train, X_test, y_train, y_test = train_test_split(X, y, test_size = 0.33)\n",
    "    lm.fit(X_train, y_train)\n",
    "    yhat_test = lm.predict(X_test)\n",
    "    \n",
    "    for j in range(X.shape[1]):\n",
    "\n",
    "        varr = 'X' + str(j + 1)\n",
    "        # DROPOUT\n",
    "        Xj_test = dropout(X_test, j)\n",
    "        Xj_train = dropout(X_train, j)\n",
    "        dr_vi = mse(lm.predict(Xj_test), y_test) - mse(yhat_test, y_test)\n",
    "        results.append([varr, 'dropout', dr_vi])\n",
    "\n",
    "\n",
    "        # RETRAIN\n",
    "        lmj = LinearRegression()\n",
    "        lmj.fit(Xj_train, y_train)\n",
    "        rt_vi =  mse(lmj.predict(Xj_test), y_test) - mse(yhat_test, y_test)\n",
    "        results.append([varr, 'retrain', rt_vi])\n",
    "\n",
    "df = pd.DataFrame(results, columns=['variable', 'method', 'vi'])\n",
    "#plt.figure(figsize=(15,5))\n",
    "sns.barplot(x='variable', y='vi', hue='method', data=df)"
   ]
  },
  {
   "cell_type": "code",
   "execution_count": 87,
   "id": "headed-judge",
   "metadata": {},
   "outputs": [
    {
     "data": {
      "text/plain": [
       "<AxesSubplot:xlabel='variable', ylabel='vi'>"
      ]
     },
     "execution_count": 87,
     "metadata": {},
     "output_type": "execute_result"
    },
    {
     "data": {
      "image/png": "[encoded data removed]",
      "text/plain": [
       "<Figure size 432x288 with 1 Axes>"
      ]
     },
     "metadata": {},
     "output_type": "display_data"
    }
   ],
   "source": [
    "sns.barplot(x='variable', y='vi', data=df[df.method=='retrain'])"
   ]
  },
  {
   "attachments": {
    "image.png": {
     "image/png": "[encoded data removed]"
    }
   },
   "cell_type": "markdown",
   "id": "appropriate-ticket",
   "metadata": {},
   "source": [
    "![image.png](attachment:image.png)"
   ]
  },
  {
   "cell_type": "code",
   "execution_count": 26,
   "id": "silent-jerusalem",
   "metadata": {},
   "outputs": [],
   "source": [
    "from itertools import chain, combinations\n",
    "import math\n",
    "\n",
    "def powerset(iterable):\n",
    "    \"powerset([1,2,3]) --> () (1,) (2,) (3,) (1,2) (1,3) (2,3) (1,2,3)\"\n",
    "    s = list(iterable)\n",
    "    return list(chain.from_iterable(combinations(s, r) for r in range(len(s)+1)))\n",
    "\n",
    "def subset(X, s):\n",
    "    Xs = np.random.normal(size=X.shape)\n",
    "    Xs[:, s] = X[:, s]\n",
    "    return Xs"
   ]
  },
  {
   "cell_type": "code",
   "execution_count": 27,
   "id": "forbidden-encoding",
   "metadata": {},
   "outputs": [],
   "source": [
    "lms = LinearRegression()\n",
    "lmsj = LinearRegression()"
   ]
  },
  {
   "cell_type": "code",
   "execution_count": 36,
   "id": "flush-produce",
   "metadata": {},
   "outputs": [
    {
     "data": {
      "text/plain": [
       "{0: 1.0, 1: 5.0, 2: 10.0, 3: 10.0, 4: 5.0, 5: 1.0}"
      ]
     },
     "execution_count": 36,
     "metadata": {},
     "output_type": "execute_result"
    }
   ],
   "source": [
    "top = math.factorial(p-1)\n",
    "comap = {}\n",
    "for j in range(p):\n",
    "    comap[j] = top/(math.factorial(j)*math.factorial(p-j-1))\n",
    "comap"
   ]
  },
  {
   "cell_type": "code",
   "execution_count": 119,
   "id": "silent-decline",
   "metadata": {},
   "outputs": [],
   "source": [
    "results = []\n",
    "diffs = []\n",
    "for j in range(p):\n",
    "    scores = []\n",
    "    for s in powerset([x for x in np.arange(p) if x != j]):\n",
    "        #Xs = subset(X, s)\n",
    "        Xs = X[:, s]\n",
    "        #Xsj = subset(X, list(s) + [j])\n",
    "        Xsj = X[:, list(s)+[j]]\n",
    "        lmsj.fit(Xsj, y)\n",
    "        if len(s)==0:\n",
    "            diff = max(0, r2_score(lmsj.predict(Xsj), y))\n",
    "            diffs.append([s, diff])\n",
    "        else:\n",
    "            lms.fit(Xs, y)\n",
    "            lmsj.fit(Xsj, y)\n",
    "            diff = max(0, r2_score(lmsj.predict(Xsj), y)) - max(0, r2_score(lms.predict(Xs), y))\n",
    "            diffs.append([s, diff])\n",
    "        scores.append(diff/comap[len(s)])\n",
    "    results.append(['X{}'.format(j+1), 'shapley', np.sum(scores)/p])"
   ]
  },
  {
   "cell_type": "code",
   "execution_count": 123,
   "id": "adolescent-uncertainty",
   "metadata": {},
   "outputs": [
    {
     "data": {
      "text/plain": [
       "<AxesSubplot:xlabel='variable', ylabel='Shapley value'>"
      ]
     },
     "execution_count": 123,
     "metadata": {},
     "output_type": "execute_result"
    },
    {
     "data": {
      "image/png": "[encoded data removed]",
      "text/plain": [
       "<Figure size 432x288 with 1 Axes>"
      ]
     },
     "metadata": {},
     "output_type": "display_data"
    }
   ],
   "source": [
    "df = pd.DataFrame(results, columns=['variable', 'method', 'Shapley value'])\n",
    "\n",
    "sns.barplot(x='variable', y='Shapley value', data=df)"
   ]
  },
  {
   "cell_type": "code",
   "execution_count": 106,
   "id": "recent-corruption",
   "metadata": {},
   "outputs": [
    {
     "data": {
      "text/plain": [
       "[[(), 0.8561805410315411],\n",
       " [(1,), 0.00849828470700642],\n",
       " [(2,), 7.964070790139048],\n",
       " [(3,), 293151.3288648898],\n",
       " [(4,), 2128.6520925761697],\n",
       " [(5,), 5240.056271012871],\n",
       " [(1, 2), 0.005396505411905839],\n",
       " [(1, 3), 0.008499335977676492],\n",
       " [(1, 4), 0.008501672633083435],\n",
       " [(1, 5), 0.008487137355461583],\n",
       " [(2, 3), 7.9639242107705135],\n",
       " [(2, 4), 7.9406803536006345],\n",
       " [(2, 5), 7.93882776407467],\n",
       " [(3, 4), 2114.2094459504665],\n",
       " [(3, 5), 5163.523969910566],\n",
       " [(4, 5), 1499.9793916833582],\n",
       " [(1, 2, 3), 0.005395599816217178],\n",
       " [(1, 2, 4), 0.005396106929935196],\n",
       " [(1, 2, 5), 0.005396314406399094],\n",
       " [(1, 3, 4), 0.008502680413713604],\n",
       " [(1, 3, 5), 0.00848836676615694],\n",
       " [(1, 4, 5), 0.008490610910761531],\n",
       " [(2, 3, 4), 7.940544007249972],\n",
       " [(2, 3, 5), 7.938724673161331],\n",
       " [(2, 4, 5), 7.915106447558159],\n",
       " [(3, 4, 5), 1494.0737308934695],\n",
       " [(1, 2, 3, 4), 0.0053952061218608405],\n",
       " [(1, 2, 3, 5), 0.005395419341404084],\n",
       " [(1, 2, 4, 5), 0.005395904150315323],\n",
       " [(1, 3, 4, 5), 0.00849179550564716],\n",
       " [(2, 3, 4, 5), 7.915012244000415],\n",
       " [(1, 2, 3, 4, 5), 0.005395014083105276],\n",
       " [(), 0.8510308350558902],\n",
       " [(0,), 0.0033485787313556337],\n",
       " [(2,), 7.962152196227057],\n",
       " [(3,), 293151.32371037547],\n",
       " [(4,), 2128.646935186985],\n",
       " [(5,), 5240.051138753294],\n",
       " [(0, 2), 0.003477911499914721],\n",
       " [(0, 3), 0.003344821646114049],\n",
       " [(0, 4), 0.0033442834485996054],\n",
       " [(0, 5), 0.003354877778782739],\n",
       " [(2, 3), 7.9620044687937],\n",
       " [(2, 4), 7.93876235778621],\n",
       " [(2, 5), 7.936907943831082],\n",
       " [(3, 4), 2114.2042838322327],\n",
       " [(3, 5), 5163.518832603439],\n",
       " [(4, 5), 1499.974251586242],\n",
       " [(0, 2, 3), 0.00347585783940374],\n",
       " [(0, 2, 4), 0.0034781111155107736],\n",
       " [(0, 2, 5), 0.003476494162811261],\n",
       " [(0, 3, 4), 0.0033405621799464935],\n",
       " [(0, 3, 5), 0.0033510596384606073],\n",
       " [(0, 4, 5), 0.003350513794541321],\n",
       " [(2, 3, 4), 7.938624859089098],\n",
       " [(2, 3, 5), 7.9368037349253475],\n",
       " [(2, 4, 5), 7.913187234809099],\n",
       " [(3, 4, 5), 1494.0685858307686],\n",
       " [(0, 2, 3, 4), 0.0034760579609870446],\n",
       " [(0, 2, 3, 5), 0.0034744811054205904],\n",
       " [(0, 2, 4, 5), 0.003476691401255061],\n",
       " [(0, 3, 4, 5), 0.0033467328047422917],\n",
       " [(2, 3, 4, 5), 7.913091908875026],\n",
       " [(0, 2, 3, 4, 5), 0.0034746789577154713],\n",
       " [(), -6.968747393847051],\n",
       " [(0,), 0.13914285526045578],\n",
       " [(1,), 0.14237396732411556],\n",
       " [(3,), 293143.5040806011],\n",
       " [(4,), 2120.8505243261943],\n",
       " [(5,), 5232.256577647057],\n",
       " [(0, 1), 0.13927218802901487],\n",
       " [(0, 3), 0.13913992208417336],\n",
       " [(0, 4), 0.13911210362521476],\n",
       " [(0, 5), 0.1391343982610973],\n",
       " [(1, 3), 0.14237469443892226],\n",
       " [(1, 4), 0.14235149699527416],\n",
       " [(1, 5), 0.1423468375941883],\n",
       " [(3, 4), 2106.4080111794656],\n",
       " [(3, 5), 5155.724376485272],\n",
       " [(4, 5), 1492.203389228187],\n",
       " [(0, 1, 3), 0.13927095827746305],\n",
       " [(0, 1, 4), 0.13924593129212604],\n",
       " [(0, 1, 5), 0.13925601464512583],\n",
       " [(0, 3, 4), 0.13910923624874816],\n",
       " [(0, 3, 5), 0.13913124786693132],\n",
       " [(0, 4, 5), 0.1391039923870987],\n",
       " [(1, 3, 4), 0.14235220632164147],\n",
       " [(1, 3, 5), 0.14234761675864416],\n",
       " [(1, 4, 5), 0.14232487675425887],\n",
       " [(3, 4, 5), 1486.2978195609307],\n",
       " [(0, 1, 3, 4), 0.1392447320297887],\n",
       " [(0, 1, 3, 5), 0.1392546693338914],\n",
       " [(0, 1, 4, 5), 0.13923016999381255],\n",
       " [(0, 3, 4, 5), 0.1391009114616505],\n",
       " [(1, 3, 4, 5), 0.14232563903716566],\n",
       " [(0, 1, 3, 4, 5), 0.13922885761462367],\n",
       " [(), -293150.47267923225],\n",
       " [(0,), 5.116501808899443e-06],\n",
       " [(1,), 3.0814589746519516e-07],\n",
       " [(2,), 0.00014876269406105536],\n",
       " [(4,), 14.44265167669073],\n",
       " [(5,), 76.53230639246067],\n",
       " [(0, 1), 1.359416567314753e-06],\n",
       " [(0, 2), 2.1833255264835927e-06],\n",
       " [(0, 4), 5.050991425781248e-06],\n",
       " [(0, 5), 5.290174306615825e-06],\n",
       " [(1, 2), 1.0352607041630435e-06],\n",
       " [(1, 4), 3.2194214261149767e-07],\n",
       " [(1, 5), 2.426232891261648e-07],\n",
       " [(2, 4), 0.00013852996563556985],\n",
       " [(2, 5), 0.00010523069348611358],\n",
       " [(4, 5), 5.905666010796722],\n",
       " [(0, 1, 2), 1.296650155024892e-07],\n",
       " [(0, 1, 4), 1.3297227725583838e-06],\n",
       " [(0, 1, 5), 1.472033984595278e-06],\n",
       " [(0, 2, 4), 2.1836149590725995e-06],\n",
       " [(0, 2, 5), 2.139780140741898e-06],\n",
       " [(0, 4, 5), 5.220909145231545e-06],\n",
       " [(1, 2, 4), 1.0312685096991459e-06],\n",
       " [(1, 2, 5), 1.0217877450813262e-06],\n",
       " [(1, 4, 5), 2.553244604630578e-07],\n",
       " [(2, 4, 5), 9.634354144072432e-05],\n",
       " [(0, 1, 2, 4), 1.3046043534359342e-07],\n",
       " [(0, 1, 2, 5), 1.2672275007119538e-07],\n",
       " [(0, 1, 4, 5), 1.4399193462022453e-06],\n",
       " [(0, 2, 4, 5), 2.139983696802794e-06],\n",
       " [(1, 2, 4, 5), 1.017607367259643e-06],\n",
       " [(0, 1, 2, 4, 5), 1.2754015721316847e-07],\n",
       " [(), -2127.795881282214],\n",
       " [(0,), 3.0752924134458404e-05],\n",
       " [(1,), 2.3069715301526905e-05],\n",
       " [(2,), 0.023390437827306876],\n",
       " [(3,), 291037.1194496267],\n",
       " [(5,), 3740.0769097359544],\n",
       " [(0, 1), 2.6457641378319074e-05],\n",
       " [(0, 2), 1.2888934364241322e-09],\n",
       " [(0, 3), 3.068741375122919e-05],\n",
       " [(0, 5), 3.040643616558647e-05],\n",
       " [(1, 2), 5.993864601316901e-07],\n",
       " [(1, 3), 2.3083511546451163e-05],\n",
       " [(1, 5), 2.256889662399786e-05],\n",
       " [(2, 3), 0.02338020509886718],\n",
       " [(2, 5), 0.023721317078677195],\n",
       " [(3, 5), 3669.45026935427],\n",
       " [(0, 1, 2), 2.0090448948906214e-07],\n",
       " [(0, 1, 3), 2.6427947583673728e-05],\n",
       " [(0, 1, 5), 2.6042451924168653e-05],\n",
       " [(0, 2, 3), 1.578326025430954e-09],\n",
       " [(0, 2, 5), 5.621669796340711e-10],\n",
       " [(0, 3, 5), 3.033717100420219e-05],\n",
       " [(1, 2, 3), 5.953942656677924e-07],\n",
       " [(1, 2, 5), 6.080566945509958e-07],\n",
       " [(1, 3, 5), 2.258159779522373e-05],\n",
       " [(2, 3, 5), 0.023712429926633583],\n",
       " [(0, 1, 2, 3), 2.0169990933016635e-07],\n",
       " [(0, 1, 2, 5), 1.9780061077945277e-07],\n",
       " [(0, 1, 3, 5), 2.6010337285442553e-05],\n",
       " [(0, 2, 3, 5), 7.657230405300197e-10],\n",
       " [(1, 2, 3, 5), 6.038763168403349e-07],\n",
       " [(0, 1, 2, 3, 5), 1.9861801792142586e-07],\n",
       " [(), -5239.200080473345],\n",
       " [(0,), 9.998493904150862e-06],\n",
       " [(1,), 2.7444892876204996e-05],\n",
       " [(2,), 0.025244567558924125],\n",
       " [(3,), 287987.80490515137],\n",
       " [(4,), 628.6727105448174],\n",
       " [(0, 1), 1.629754133125605e-05],\n",
       " [(0, 2), 1.541494545675981e-06],\n",
       " [(0, 3), 1.0172166401867244e-05],\n",
       " [(0, 4), 9.652005935278929e-06],\n",
       " [(1, 2), 3.1516294896061225e-07],\n",
       " [(1, 3), 2.7379370267976988e-05],\n",
       " [(1, 4), 2.694407419867595e-05],\n",
       " [(2, 3), 0.025201035558342966],\n",
       " [(2, 4), 0.025575446810294444],\n",
       " [(3, 4), 620.1357248789209],\n",
       " [(0, 1, 2), 1.241574422161662e-07],\n",
       " [(0, 1, 3), 1.6410158748425552e-05],\n",
       " [(0, 1, 4), 1.5882351876994605e-05],\n",
       " [(0, 2, 3), 1.4979491599342865e-06],\n",
       " [(0, 2, 4), 1.540767819219191e-06],\n",
       " [(0, 3, 4), 9.821923654618203e-06],\n",
       " [(1, 2, 3), 3.0168998987889495e-07],\n",
       " [(1, 2, 4), 3.2383318337991795e-07],\n",
       " [(1, 3, 4), 2.6877456516749554e-05],\n",
       " [(2, 3, 4), 0.02553326038611381],\n",
       " [(0, 1, 2, 3), 1.2121517678487237e-07],\n",
       " [(0, 1, 2, 4), 1.2105356350655683e-07],\n",
       " [(0, 1, 3, 4), 1.5992548450416422e-05],\n",
       " [(0, 2, 3, 4), 1.4971365569493855e-06],\n",
       " [(1, 2, 3, 4), 3.1017204094041517e-07],\n",
       " [(0, 1, 2, 3, 4), 1.1813328537613188e-07]]"
      ]
     },
     "execution_count": 106,
     "metadata": {},
     "output_type": "execute_result"
    }
   ],
   "source": [
    "diffs"
   ]
  },
  {
   "cell_type": "code",
   "execution_count": 97,
   "id": "crazy-complaint",
   "metadata": {},
   "outputs": [
    {
     "data": {
      "text/plain": [
       "[['X1', 'shapley', 10190.000193867028],\n",
       " ['X2', 'shapley', 10189.996659933515],\n",
       " ['X3', 'shapley', 10186.162799930846],\n",
       " ['X4', 'shapley', -48855.28117534069],\n",
       " ['X5', 'shapley', 9532.43336957243],\n",
       " ['X6', 'shapley', 8757.68695379417]]"
      ]
     },
     "execution_count": 97,
     "metadata": {},
     "output_type": "execute_result"
    }
   ],
   "source": [
    "results"
   ]
  },
  {
   "cell_type": "code",
   "execution_count": 74,
   "id": "anticipated-isaac",
   "metadata": {},
   "outputs": [],
   "source": [
    "X_train, X_test, y_train, y_test = train_test_split(X, y, test_size = 0.33)"
   ]
  },
  {
   "cell_type": "code",
   "execution_count": 88,
   "id": "instructional-heather",
   "metadata": {},
   "outputs": [
    {
     "data": {
      "text/plain": [
       "LinearRegression()"
      ]
     },
     "execution_count": 88,
     "metadata": {},
     "output_type": "execute_result"
    }
   ],
   "source": [
    "import sage\n",
    "\n",
    "lm = LinearRegression()\n",
    "lm.fit(X_train, y_train)"
   ]
  },
  {
   "cell_type": "code",
   "execution_count": 91,
   "id": "interior-climate",
   "metadata": {},
   "outputs": [
    {
     "data": {
      "text/plain": [
       "SAGE Explanation(\n",
       "  (Mean): [ 4.05e+00  3.24e+00  9.61e-01 -6.18e-05  4.44e-05 -1.37e-05]\n",
       "  (Std):  [9.74e-02 7.96e-02 5.32e-02 4.60e-05 6.26e-05 2.28e-05]\n",
       ")"
      ]
     },
     "execution_count": 91,
     "metadata": {},
     "output_type": "execute_result"
    }
   ],
   "source": [
    "sage_values"
   ]
  },
  {
   "cell_type": "code",
   "execution_count": 94,
   "id": "executed-pharmacology",
   "metadata": {},
   "outputs": [
    {
     "data": {
      "application/vnd.jupyter.widget-view+json": {
       "model_id": "eacc1214010c4b5bb19b76664b80444d",
       "version_major": 2,
       "version_minor": 0
      },
      "text/plain": [
       "  0%|          | 0/1 [00:00<?, ?it/s]"
      ]
     },
     "metadata": {},
     "output_type": "display_data"
    },
    {
     "data": {
      "image/png": "[encoded data removed]",
      "text/plain": [
       "<Figure size 720x504 with 1 Axes>"
      ]
     },
     "metadata": {},
     "output_type": "display_data"
    }
   ],
   "source": [
    "# et up an imputer to handle missing features\n",
    "imputer = sage.MarginalImputer(lm, X_train)\n",
    "\n",
    "# Set up an estimator\n",
    "estimator = sage.KernelEstimator(imputer, 'mse')\n",
    "\n",
    "# Calculate SAGE values\n",
    "sage_values = estimator(X_train, y_train)\n",
    "sage_values.plot(['X{}'.format(i+1) for i in range(p)])"
   ]
  },
  {
   "cell_type": "code",
   "execution_count": 82,
   "id": "dried-bargain",
   "metadata": {},
   "outputs": [],
   "source": [
    "explainer = shap.LinearExplainer(lm, X_train, feature_dependence=\"dependent\")\n",
    "shap_values = explainer.shap_values(X_test)"
   ]
  },
  {
   "cell_type": "code",
   "execution_count": 83,
   "id": "freelance-oklahoma",
   "metadata": {},
   "outputs": [
    {
     "data": {
      "image/png": "[encoded data removed]",
      "text/plain": [
       "<Figure size 576x280.8 with 2 Axes>"
      ]
     },
     "metadata": {},
     "output_type": "display_data"
    }
   ],
   "source": [
    "shap.summary_plot(shap_values, X_test)"
   ]
  },
  {
   "cell_type": "code",
   "execution_count": 81,
   "id": "joined-belize",
   "metadata": {},
   "outputs": [
    {
     "data": {
      "text/plain": [
       "[<matplotlib.lines.Line2D at 0x1660216d0>]"
      ]
     },
     "execution_count": 81,
     "metadata": {},
     "output_type": "execute_result"
    },
    {
     "data": {
      "image/png": "[encoded data removed]",
      "text/plain": [
       "<Figure size 432x288 with 1 Axes>"
      ]
     },
     "metadata": {},
     "output_type": "display_data"
    }
   ],
   "source": [
    "plt.plot(shap_values.mean(axis=0))"
   ]
  },
  {
   "cell_type": "code",
   "execution_count": null,
   "id": "stuck-edgar",
   "metadata": {},
   "outputs": [],
   "source": [
    "p = X.shape[0]\n",
    "j = 0\n",
    "lms = LinearRegression()\n",
    "lmsj = LinearRegression()\n",
    "score = 0\n",
    "scores = []\n",
    "for s in powerset([x for x in np.arange(p) if x != j]):\n",
    "    Xs = subset(X, s)\n",
    "    Xsj = subset(X, list(s) + [j])\n",
    "    lms.fit(Xs, y)\n",
    "    lmsj.fit(Xsj, y)\n",
    "    diff = r2_score(lmsj.predict(Xsj), y) - r2_score(lms.predict(Xs), y)\n",
    "    scores.append(diff)\n",
    "    #score += (math.factorial(len(s))*math.factorial(p-len(s) - 1)/math.factorial(p-1)*diff)\n",
    "    break"
   ]
  },
  {
   "cell_type": "code",
   "execution_count": 53,
   "id": "clinical-congo",
   "metadata": {},
   "outputs": [
    {
     "data": {
      "text/plain": [
       "0.8407368328867969"
      ]
     },
     "execution_count": 53,
     "metadata": {},
     "output_type": "execute_result"
    }
   ],
   "source": [
    "lm.fit(Xsj,  y)\n",
    "r2_score(lm.predict(Xsj), y)"
   ]
  },
  {
   "cell_type": "code",
   "execution_count": 63,
   "id": "comic-advocacy",
   "metadata": {},
   "outputs": [],
   "source": [
    "import math"
   ]
  },
  {
   "cell_type": "code",
   "execution_count": 66,
   "id": "satisfactory-portuguese",
   "metadata": {},
   "outputs": [],
   "source": [
    "def shapley(X, y, j):\n",
    "\n",
    "    return score/p"
   ]
  },
  {
   "cell_type": "code",
   "execution_count": 1,
   "id": "signal-clock",
   "metadata": {},
   "outputs": [
    {
     "ename": "NameError",
     "evalue": "name 'powerset' is not defined",
     "output_type": "error",
     "traceback": [
      "\u001b[0;31m---------------------------------------------------------------------------\u001b[0m",
      "\u001b[0;31mNameError\u001b[0m                                 Traceback (most recent call last)",
      "\u001b[0;32m<ipython-input-1-13f998656a7e>\u001b[0m in \u001b[0;36m<module>\u001b[0;34m\u001b[0m\n\u001b[0;32m----> 1\u001b[0;31m \u001b[0mlen\u001b[0m\u001b[0;34m(\u001b[0m\u001b[0mpowerset\u001b[0m\u001b[0;34m(\u001b[0m\u001b[0mnp\u001b[0m\u001b[0;34m.\u001b[0m\u001b[0marange\u001b[0m\u001b[0;34m(\u001b[0m\u001b[0mp\u001b[0m\u001b[0;34m)\u001b[0m\u001b[0;34m)\u001b[0m\u001b[0;34m)\u001b[0m\u001b[0;34m\u001b[0m\u001b[0;34m\u001b[0m\u001b[0m\n\u001b[0m",
      "\u001b[0;31mNameError\u001b[0m: name 'powerset' is not defined"
     ]
    }
   ],
   "source": []
  },
  {
   "cell_type": "code",
   "execution_count": 65,
   "id": "surrounded-vinyl",
   "metadata": {},
   "outputs": [
    {
     "data": {
      "text/plain": [
       "3"
      ]
     },
     "execution_count": 65,
     "metadata": {},
     "output_type": "execute_result"
    }
   ],
   "source": [
    "len(s)"
   ]
  },
  {
   "cell_type": "code",
   "execution_count": null,
   "id": "informed-third",
   "metadata": {},
   "outputs": [],
   "source": [
    "def do_one(n_train, n_test, p, m, measure_type, binary, gamma, cor, V, conditional_mean = \"nonlinear\", estimator_type = \"tree\"):\n",
    "    \"\"\"\n",
    "    Run the simulation one time for a given set of parameters\n",
    "    @param n: sample size\n",
    "    @param p: dimension\n",
    "    @param m: number of subsets to sample for SGD\n",
    "    @param tail: number of SGD samples to use for tail averaging\n",
    "    @param measure_type: variable importance measure\n",
    "    @param binary: is the outcome binary?\n",
    "    @param gamma: the constant multiplied by n for sampling\n",
    "    @param cor: the correlation (only used if p > 10)\n",
    "    @param V: folds for cross-fitting\n",
    "    @param conditional_mean: type of conditional mean (linear or nonlinear)\n",
    "    @param estimator_type: the type of estimator to fit (tree or linear model)\n",
    "    @return multiple values, including\n",
    "        shapley_vals: the shapley values\n",
    "        shapley_ics: the influence curves for the shapley values\n",
    "        shap_values: the mean absolute SHAP values\n",
    "        shapley_dict['num_subsets_sampled']: the number of subsets sampled\n",
    "        all_mps: all measures of predictiveness\n",
    "        p_values: p-values\n",
    "        hyp_tests: hypothesis test decisions\n",
    "        shapley_dict['beta']: the \"beta\" matrix, from SGD on ics\n",
    "    \"\"\"\n",
    "    # import standard libraries\n",
    "    import numpy as np\n",
    "    from xgboost import XGBRegressor\n",
    "    from sklearn.linear_model import LinearRegression\n",
    "    import shap\n",
    "    from sklearn.model_selection import GridSearchCV\n",
    "    from warnings import warn\n",
    "\n",
    "    # import user-defined functions\n",
    "    import data_generator as dg\n",
    "    import measures_of_predictiveness as mp\n",
    "    import utils as uts\n",
    "    import get_influence_functions as gif\n",
    "    import compute_ic as ci\n",
    "    import get_shapley_value as gsv\n",
    "    import shapley_hyp_test as sht\n",
    "\n",
    "    # generate data\n",
    "    if conditional_mean == \"nonlinear\":\n",
    "        if binary:\n",
    "            func_name = \"ten_variable_binary_conditional_mean\"\n",
    "        else:\n",
    "            func_name = \"ten_variable_continuous_conditional_mean\"\n",
    "    else:\n",
    "        func_name = \"lm_conditional_mean\"\n",
    "\n",
    "    beta = np.array([1, 0, 1.2, 0, 1.05, 0] + [0] * (p - 6))\n",
    "\n",
    "    if measure_type == \"r_squared\":\n",
    "        measure_func = mp.r_squared\n",
    "        objective_function = 'reg:linear'\n",
    "    else:\n",
    "        measure_func = mp.auc\n",
    "        objective_function = 'binary:logistic'\n",
    "\n",
    "    data_gen = dg.DataGenerator(func_name, n_train, n_test, p, binary, beta, cor)\n",
    "    draw = data_gen.create_data()\n",
    "    folds_outer = np.random.choice(a = np.arange(2), size = draw.y_train.shape[0], replace = True, p = np.array([0.25, 0.75]))\n",
    "    draw_0 = dg.Dataset(x_train = draw.x_train[folds_outer == 0, :], y_train = draw.y_train[folds_outer == 0], x_test = None, y_test = None)\n",
    "    draw_1 = dg.Dataset(x_train = draw.x_train[folds_outer == 1, :], y_train = draw.y_train[folds_outer == 1], x_test = None, y_test = None)\n",
    "    # set up args for xgboost\n",
    "\n",
    "    # use the cross-validated selector to get the number of trees\n",
    "    ntrees_tree = np.array([50, 100, 250, 500, 1000, 1500, 2000, 2500, 3000])\n",
    "    lambdas_tree = np.array([1e-3, 1e-2, 1e-1, 1, 5, 10])\n",
    "    param_grid_tree = [{'n_estimators': ntrees_tree, 'reg_alpha': lambdas_tree}]\n",
    "    # estimate full regression\n",
    "    if estimator_type == \"tree\":\n",
    "        cv_tree = GridSearchCV(XGBRegressor(objective = objective_function, max_depth = 1, verbosity = 0, learning_rate = 1e-2, reg_lambda = 0), param_grid = param_grid_tree, cv = 5)\n",
    "        cv_tree.fit(draw.x_train, np.ravel(draw.y_train))\n",
    "        ensemble_tree = XGBRegressor(objective = objective_function, max_depth = 1, verbosity = 0, reg_lambda = 0, learning_rate = 1e-2, n_estimators = cv_tree.best_params_['n_estimators'], reg_alpha = cv_tree.best_params_['reg_alpha'])\n",
    "        ensemble = ensemble_tree\n",
    "        print(\"Num. est. in boosted tree: \" + str(cv_tree.best_params_['n_estimators']))\n",
    "    else:\n",
    "        ensemble = LinearRegression(fit_intercept = False)\n",
    "    # get a list of n subset sizes, Ss, Zs\n",
    "    max_subset = np.array(list(range(p)))\n",
    "    sampling_weights = np.append(np.append(1, [uts.choose(p - 2, s - 1) ** (-1) for s in range(1, p)]), 1)\n",
    "    subset_sizes = np.random.choice(np.arange(0, p + 1), p = sampling_weights / sum(sampling_weights), size = draw.x_train.shape[0] * gamma, replace = True)\n",
    "    S_lst_all = [np.sort(np.random.choice(np.arange(0, p), subset_size, replace = False)) for subset_size in list(np.sort(subset_sizes))]\n",
    "    # only need to continue with the unique subsets S\n",
    "    Z_lst_all = [np.in1d(max_subset, S).astype(np.float64) for S in S_lst_all]\n",
    "    Z, z_counts = np.unique(np.array(Z_lst_all), axis = 0, return_counts = True)\n",
    "    Z_lst = list(Z)\n",
    "    Z_aug_lst = [np.append(1, z) for z in Z_lst]\n",
    "    S_lst = [max_subset[z.astype(bool).tolist()] for z in Z_lst]\n",
    "    if estimator_type == \"tree\":\n",
    "        cv_tree_small = GridSearchCV(XGBRegressor(objective = objective_function, max_depth = 1, verbosity = 0, learning_rate = 1e-2, reg_lambda = 0), param_grid = param_grid_tree, cv = 5)\n",
    "        all_s_sizes = [len(s) for s in S_lst[1:]]\n",
    "        s_sizes = np.unique(all_s_sizes)\n",
    "        all_best_tree_lst = [None] * len(S_lst[1:])\n",
    "        all_best_lambda_lst = [None] * len(S_lst[1:])\n",
    "        for i in range(s_sizes.shape[0]):\n",
    "            indx = all_s_sizes.index(s_sizes[i])\n",
    "            this_s = S_lst[1:][indx]\n",
    "            cc_i = (np.sum(np.isnan(draw_1.x_train[:, this_s]), axis = 1) == 0)\n",
    "            these_best_params = cv_tree_small.fit(draw_1.x_train[:, this_s][cc_i, :], np.ravel(draw_1.y_train[cc_i])).best_params_\n",
    "            all_indices = [index for index, value in enumerate(all_s_sizes) if value == s_sizes[i]]\n",
    "            all_best_tree_lst = [these_best_params['n_estimators'] if x in all_indices else all_best_tree_lst[x] for x in range(len(all_best_tree_lst))]\n",
    "            all_best_lambda_lst = [these_best_params['reg_alpha'] if x in all_indices else all_best_lambda_lst[x] for x in range(len(all_best_lambda_lst))]\n",
    "        ensemble_funcs = [XGBRegressor(objective = objective_function, max_depth = 1, verbosity = 0, reg_lambda = 0, reg_alpha = all_best_lambda_lst[i], learning_rate = 1e-2, n_estimators = all_best_tree_lst[i]) for i in range(len(all_best_tree_lst))]\n",
    "    else:\n",
    "        ensemble_funcs = [ensemble for i in range(len(S_lst[1:]))]\n",
    "    # get v, preds, ic for each unique S\n",
    "    preds_none = np.repeat(np.mean(draw_1.y_train), draw_1.x_train.shape[0])\n",
    "    v_none = measure_func(draw_1.y_train, preds_none)\n",
    "    ic_none = ci.compute_ic(draw_1.y_train, preds_none, measure_type)\n",
    "    # get v, preds, ic for the remaining non-null groups\n",
    "    v_lst, preds_lst, ic_lst, folds = zip(*(mp.cv_predictiveness(draw_1, S_lst[1:][i], measure_func, ensemble_funcs[i], V = V, stratified = binary, na_rm = False) for i in range(len(S_lst[1:]))))\n",
    "    v_lst_all = [v_none] + list(v_lst)\n",
    "    ic_lst_all = [ic_none] + list(ic_lst)\n",
    "    # set up Z, v, W, G, c_n matrices\n",
    "    Z = np.array(Z_aug_lst)\n",
    "    # constrain v >= 0\n",
    "    v = np.maximum(np.array(v_lst_all), 0)\n",
    "    W = np.diag(z_counts / np.sum(z_counts))\n",
    "    G = np.vstack((np.append(1, np.zeros(p)), np.ones(p + 1) - np.append(1, np.zeros(p))))\n",
    "    c_n = np.array([v_none, v_lst_all[len(v_lst)] - v_none])\n",
    "    # do constrained least squares\n",
    "    A_W = np.sqrt(W).dot(Z)\n",
    "    v_W = np.sqrt(W).dot(v)\n",
    "    kkt_matrix = uts.create_kkt_matrix(A_W, G)\n",
    "    ls_matrix = np.vstack((2 * A_W.transpose().dot(v_W.reshape((len(v_W), 1))), c_n.reshape((c_n.shape[0], 1))))\n",
    "    ls_solution = np.linalg.pinv(kkt_matrix).dot(ls_matrix)\n",
    "    shapley_vals = ls_solution[0:(p + 1), :]\n",
    "\n",
    "    # get relevant objects\n",
    "    shapley_ics = gif.shapley_influence_function(Z, z_counts, W, v, shapley_vals, G, c_n, np.array(ic_lst_all), measure_func.__name__)\n",
    "    # if any shapley values are < 0, make zero and print a warning\n",
    "    if any(shapley_vals < 0):\n",
    "        if any(shapley_vals[1:] < 0):\n",
    "            warn(\"At least one estimated shapley value is < 0. Setting to 0.\")\n",
    "        shapley_vals = np.maximum(shapley_vals, 0)\n",
    "    if any(shapley_vals > 1):\n",
    "        if any(shapley_vals[1:] > 1):\n",
    "            warn(\"At least one estimated shapley value is > 1. Setting to 1.\")\n",
    "        shapley_vals = np.minimum(shapley_vals, 1)\n",
    "\n",
    "    # do hypothesis test\n",
    "    # get the null predictiveness on a separate split\n",
    "    preds_none_0 = np.repeat(np.mean(draw_0.y_train), draw_0.x_train.shape[0])\n",
    "    v_none_0 = measure_func(draw_0.y_train, preds_none_0)\n",
    "    ic_none_0 = ci.compute_ic(draw_0.y_train, preds_none_0, measure_type)\n",
    "    sigma_none_0 = np.sqrt(np.mean((ic_none_0) ** 2)) / np.sqrt(np.sum(draw_0.y_train.shape[0]))\n",
    "    # get the shapley values + null predictiveness on the first split\n",
    "    shapley_vals_plus = shapley_vals + shapley_vals[0]\n",
    "    sigmas_one = [np.sqrt(gsv.shapley_se(shapley_ics, i, gamma) ** 2 + sigma_none_0 ** 2) for i in range(1, p + 1)]\n",
    "    test_statistics, p_values, hyp_tests = sht.shapley_hyp_test(shapley_vals_plus[1:], v_none_0, sigmas_one, sigma_none_0, level = 0.05, p = p)\n",
    "\n",
    "    # get variable importance using SHAP values\n",
    "    if estimator_type == \"tree\":\n",
    "        mod = XGBRegressor(objective = objective_function, learning_rate = 1e-2, reg_lambda = 0, max_depth = 1, n_estimators = cv_tree.best_params_['n_estimators'], reg_alpha = cv_tree.best_params_['reg_alpha'], verbosity = 0)\n",
    "        mod.fit(draw.x_train, draw.y_train)\n",
    "        explainer = shap.TreeExplainer(mod)\n",
    "    else:\n",
    "        mod = LinearRegression(fit_intercept = False)\n",
    "        mod.fit(draw.x_train, draw.y_train)\n",
    "        explainer = shap.LinearExplainer((np.ravel(mod.coef_), 0), draw.x_train, feature_dependence = 'correlation', nsamples = 500)\n",
    "\n",
    "    shap_values = explainer.shap_values(draw.x_test)\n",
    "\n",
    "    # return the population shapley values and averaged prediction-level shapley values\n",
    "    return shapley_vals, shapley_ics, shap_values, Z.shape[0], v, p_values, hyp_tests"
   ]
  }
 ],
 "metadata": {
  "kernelspec": {
   "display_name": "Python 3",
   "language": "python",
   "name": "python3"
  },
  "language_info": {
   "codemirror_mode": {
    "name": "ipython",
    "version": 3
   },
   "file_extension": ".py",
   "mimetype": "text/x-python",
   "name": "python",
   "nbconvert_exporter": "python",
   "pygments_lexer": "ipython3",
   "version": "3.7.7"
  }
 },
 "nbformat": 4,
 "nbformat_minor": 5
}
