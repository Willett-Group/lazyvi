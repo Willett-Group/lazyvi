{
 "cells": [
  {
   "cell_type": "code",
   "execution_count": 1,
   "id": "controversial-indian",
   "metadata": {},
   "outputs": [
    {
     "ename": "ModuleNotFoundError",
     "evalue": "No module named 'vimpy'",
     "output_type": "error",
     "traceback": [
      "\u001b[0;31m---------------------------------------------------------------------------\u001b[0m",
      "\u001b[0;31mModuleNotFoundError\u001b[0m                       Traceback (most recent call last)",
      "\u001b[0;32m<ipython-input-1-5f8424f92e41>\u001b[0m in \u001b[0;36m<module>\u001b[0;34m\u001b[0m\n\u001b[1;32m      1\u001b[0m \u001b[0;31m## load required libraries\u001b[0m\u001b[0;34m\u001b[0m\u001b[0;34m\u001b[0m\u001b[0;34m\u001b[0m\u001b[0m\n\u001b[1;32m      2\u001b[0m \u001b[0;32mimport\u001b[0m \u001b[0mnumpy\u001b[0m \u001b[0;32mas\u001b[0m \u001b[0mnp\u001b[0m\u001b[0;34m\u001b[0m\u001b[0;34m\u001b[0m\u001b[0m\n\u001b[0;32m----> 3\u001b[0;31m \u001b[0;32mimport\u001b[0m \u001b[0mvimpy\u001b[0m\u001b[0;34m\u001b[0m\u001b[0;34m\u001b[0m\u001b[0m\n\u001b[0m\u001b[1;32m      4\u001b[0m \u001b[0;32mfrom\u001b[0m \u001b[0msklearn\u001b[0m\u001b[0;34m.\u001b[0m\u001b[0mensemble\u001b[0m \u001b[0;32mimport\u001b[0m \u001b[0mGradientBoostingRegressor\u001b[0m\u001b[0;34m\u001b[0m\u001b[0;34m\u001b[0m\u001b[0m\n\u001b[1;32m      5\u001b[0m \u001b[0;32mfrom\u001b[0m \u001b[0msklearn\u001b[0m\u001b[0;34m.\u001b[0m\u001b[0mmodel_selection\u001b[0m \u001b[0;32mimport\u001b[0m \u001b[0mGridSearchCV\u001b[0m\u001b[0;34m\u001b[0m\u001b[0;34m\u001b[0m\u001b[0m\n",
      "\u001b[0;31mModuleNotFoundError\u001b[0m: No module named 'vimpy'"
     ]
    }
   ],
   "source": [
    "## load required libraries\n",
    "import numpy as np\n",
    "import vimpy\n",
    "from sklearn.ensemble import GradientBoostingRegressor\n",
    "from sklearn.model_selection import GridSearchCV\n",
    "\n",
    "## -------------------------------------------------------------\n",
    "## problem setup\n",
    "## -------------------------------------------------------------\n",
    "## define a function for the conditional mean of Y given X\n",
    "def cond_mean(x = None):\n",
    "    f1 = np.where(np.logical_and(-2 <= x[:, 0], x[:, 0] < 2), np.floor(x[:, 0]), 0)\n",
    "    f2 = np.where(x[:, 1] <= 0, 1, 0)\n",
    "    f3 = np.where(x[:, 2] > 0, 1, 0)\n",
    "    f6 = np.absolute(x[:, 5]/4) ** 3\n",
    "    f7 = np.absolute(x[:, 6]/4) ** 5\n",
    "    f11 = (7./3)*np.cos(x[:, 10]/2)\n",
    "    ret = f1 + f2 + f3 + f6 + f7 + f11\n",
    "    return ret\n",
    "\n",
    "## create data\n",
    "np.random.seed(4747)\n",
    "n = 100\n",
    "p = 15\n",
    "s = 1 # importance desired for X_1\n",
    "x = np.zeros((n, p))\n",
    "for i in range(0, x.shape[1]) :\n",
    "    x[:,i] = np.random.normal(0, 2, n)\n",
    "\n",
    "y = cond_mean(x) + np.random.normal(0, 1, n)\n",
    "\n",
    "## -------------------------------------------------------------\n",
    "## preliminary step: get regression estimators\n",
    "## -------------------------------------------------------------\n",
    "## use grid search to get optimal number of trees and learning rate\n",
    "ntrees = np.arange(100, 500, 100)\n",
    "lr = np.arange(.01, .1, .05)\n",
    "\n",
    "param_grid = [{'n_estimators':ntrees, 'learning_rate':lr}]\n",
    "\n",
    "## set up cv objects\n",
    "cv_full = GridSearchCV(GradientBoostingRegressor(loss = 'ls', max_depth = 1), param_grid = param_grid, cv = 5)\n",
    "cv_small = GridSearchCV(GradientBoostingRegressor(loss = 'ls', max_depth = 1), param_grid = param_grid, cv = 5)\n",
    "\n",
    "## -------------------------------------------------------------\n",
    "## get variable importance estimates\n",
    "## -------------------------------------------------------------\n",
    "# set seed\n",
    "np.random.seed(12345)\n",
    "## set up the vimp object\n",
    "vimp = vimpy.vim(y = y, x = x, s = 1, pred_func = cv_full, measure_type = \"r_squared\")\n",
    "## get the point estimate of variable importance\n",
    "vimp.get_point_est()\n",
    "## get the influence function estimate\n",
    "vimp.get_influence_function()\n",
    "## get a standard error\n",
    "vimp.get_se()\n",
    "## get a confidence interval\n",
    "vimp.get_ci()\n",
    "## do a hypothesis test, compute p-value\n",
    "vimp.hypothesis_test(alpha = 0.05, delta = 0)\n",
    "## display the estimates, etc.\n",
    "vimp.vimp_\n",
    "vimp.se_\n",
    "vimp.ci_\n",
    "vimp.p_value_\n",
    "vimp.hyp_test_"
   ]
  },
  {
   "cell_type": "code",
   "execution_count": null,
   "id": "romantic-therapist",
   "metadata": {},
   "outputs": [],
   "source": []
  }
 ],
 "metadata": {
  "kernelspec": {
   "display_name": "Python 3",
   "language": "python",
   "name": "python3"
  },
  "language_info": {
   "codemirror_mode": {
    "name": "ipython",
    "version": 3
   },
   "file_extension": ".py",
   "mimetype": "text/x-python",
   "name": "python",
   "nbconvert_exporter": "python",
   "pygments_lexer": "ipython3",
   "version": "3.7.7"
  }
 },
 "nbformat": 4,
 "nbformat_minor": 5
}
